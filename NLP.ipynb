{
  "nbformat": 4,
  "nbformat_minor": 0,
  "metadata": {
    "colab": {
      "provenance": []
    },
    "kernelspec": {
      "name": "python3",
      "display_name": "Python 3"
    },
    "language_info": {
      "name": "python"
    }
  },
  "cells": [
    {
      "cell_type": "markdown",
      "source": [
        "자연어 이해-> 기계가 인간의 언어를 이해 할려는 분야\n",
        "\n",
        "자연어 생성-> 자연어에 대하여 목적에 맞게 자연어를 생성하는 분야 "
      ],
      "metadata": {
        "id": "uNz2tFtLI5KW"
      }
    },
    {
      "cell_type": "markdown",
      "source": [
        "#빅데이터의 3요소(3v)\n",
        "\n",
        "1.volume-데이터의 양\n",
        "\n",
        "2.variety-데이터의 다양성 -> 정형: 관계형 데이터베이스, 비정형:텍스트,오디오,비디오 등, 반정형:HTML,XML등\n",
        "\n",
        "3.velocity-데이터의 속도\n"
      ],
      "metadata": {
        "id": "BWYT7ftAJP6F"
      }
    },
    {
      "cell_type": "markdown",
      "source": [
        "#토큰화:문장을 토큰(형태소) 단위로 구분하는 작업\n",
        "1.Bag of word-> 직관적 반면 순서가 고려되지 않음,\n",
        "\n",
        "vector의 길이가 vocab의 길이만큼 길어질 수 있다.\n",
        "\n",
        "2.word2vec\n",
        "\n",
        "3.doc2vec\n",
        "\n",
        "4.BERT\n",
        "\n",
        "\n"
      ],
      "metadata": {
        "id": "9rYHrthJJodw"
      }
    },
    {
      "cell_type": "markdown",
      "source": [
        "#자연어 처리를 통해 할 수 있는 것\n",
        "TTS(text-to-speech),STT(Speech-to-text),챗봇,기계번역,기계독해\n",
        "\n"
      ],
      "metadata": {
        "id": "v7kFgBO8K2uU"
      }
    },
    {
      "cell_type": "markdown",
      "source": [
        "#지도학습/비지도학습\n",
        "\n",
        "지도학습 - 정답이 o: 회귀-날씨 예측 등, 분류: 분류하는거\n",
        "\n",
        "비지도학습 - 정답이 x:군집화-비슷한거끼리 묶음, 이상치 탐지-위조화폐 찾기 등"
      ],
      "metadata": {
        "id": "v-UmEoFINh_d"
      }
    },
    {
      "cell_type": "markdown",
      "source": [
        "#머신러닝 관련 라이브러리\n",
        "\n",
        "데이터 이해&전처리\n",
        "\n",
        "1.numpy - 통계치, 선형대수 수치 계산\n",
        "\n",
        "2.pandas - 데이터프레임 테이블 형태\n",
        "\n",
        "3.Matplotlib - 데이터 시각화\n",
        "\n",
        "머신러닝\n",
        "\n",
        "1.전통적인 머신러닝(Scikit-learn)\n",
        "\n",
        "2.딥러닝 지도학습(TensorFlow/pyTorch)\n"
      ],
      "metadata": {
        "id": "p8wg8lbZOQsW"
      }
    },
    {
      "cell_type": "markdown",
      "source": [
        "#Bag of words\n",
        "Cosine Similarity(유사도 검사) -> -1~1의 값을 가지고 있다. 1의 가까울수도 두 벡터는 유사하다 판단"
      ],
      "metadata": {
        "id": "EnNI47UHO1Gh"
      }
    },
    {
      "cell_type": "code",
      "source": [
        "import numpy as np\n",
        "import pandas as pd\n",
        "import tensorflow as tf"
      ],
      "metadata": {
        "id": "5sUePB5KSH1L"
      },
      "execution_count": 1,
      "outputs": []
    },
    {
      "cell_type": "code",
      "source": [
        "#\"나는 서울에 산다\"[1,1,1,0,1,1,0] \n",
        "sent1 = np.array([1,1,1,0,1,1,0]) #numpy.array로 변경한 이유는 리스트 간의 연산은 어려워 넘파이 배열로 변경\n",
        "sent1.shape #shape을 보면 7개의 원소가 있고 1차원배열이다"
      ],
      "metadata": {
        "colab": {
          "base_uri": "https://localhost:8080/"
        },
        "id": "pvdjrx0VSOHD",
        "outputId": "ad9c007f-5b10-452d-bcc5-8416be044d79"
      },
      "execution_count": 3,
      "outputs": [
        {
          "output_type": "execute_result",
          "data": {
            "text/plain": [
              "(7,)"
            ]
          },
          "metadata": {},
          "execution_count": 3
        }
      ]
    },
    {
      "cell_type": "code",
      "source": [
        "#\"나 혼자 산다\" [1,0,0,1,0,1,0]\n",
        "sent2 = np.array([1,0,0,1,0,1,0])"
      ],
      "metadata": {
        "id": "D6yTix7DS5Pq"
      },
      "execution_count": 4,
      "outputs": []
    },
    {
      "cell_type": "code",
      "source": [
        "#\"나는 서울에 있다\"[1,1,1,0,1,0,1]\n",
        "sent3 = np.array([1,1,1,0,1,0,1])\n"
      ],
      "metadata": {
        "id": "GlJeAx1cTL0m"
      },
      "execution_count": 5,
      "outputs": []
    },
    {
      "cell_type": "code",
      "source": [
        "sent1 + sent2"
      ],
      "metadata": {
        "colab": {
          "base_uri": "https://localhost:8080/"
        },
        "id": "OQsj1oPuTc6l",
        "outputId": "acf0e8ec-482e-4a4d-af5c-fd9858e757d1"
      },
      "execution_count": 8,
      "outputs": [
        {
          "output_type": "execute_result",
          "data": {
            "text/plain": [
              "array([2, 1, 1, 1, 1, 2, 0])"
            ]
          },
          "metadata": {},
          "execution_count": 8
        }
      ]
    },
    {
      "cell_type": "code",
      "source": [
        "[1,1,1,0,1,1,0] + [1,0,0,1,0,1,0] # -> 위와 다르게 리스트를 더하면 합쳐짐"
      ],
      "metadata": {
        "colab": {
          "base_uri": "https://localhost:8080/"
        },
        "id": "8ggri9dsUCkN",
        "outputId": "8a17bff3-fa63-4cf1-c200-c290f52363c2"
      },
      "execution_count": 9,
      "outputs": [
        {
          "output_type": "execute_result",
          "data": {
            "text/plain": [
              "[1, 1, 1, 0, 1, 1, 0, 1, 0, 0, 1, 0, 1, 0]"
            ]
          },
          "metadata": {},
          "execution_count": 9
        }
      ]
    },
    {
      "cell_type": "code",
      "source": [
        "from sklearn.metrics.pairwise import cosine_similarity # sklearn에 있는 consine_simialarity를 사용하기 위한 라이브러리, sklearn.metrics.pairwise 하위 모듈은 유틸리티를 구현하여 쌍별 거리 또는 샘플 집합의 친화도를 평가합니다.\n",
        "cosine_similarity(sent1.reshape(1,-1),sent2.reshape(1,-1)) #1행 뒤에 있는 값을 불러오기 위해 -1 -> reshape한 이유는 2차원으로 만들어주기 위해서이다.\n",
        "\n",
        "#결과 값은 sent1과 sent2의 유사도는 아래의 값이다"
      ],
      "metadata": {
        "colab": {
          "base_uri": "https://localhost:8080/"
        },
        "id": "oZXmK7g4US3_",
        "outputId": "66fe83f8-1860-4f38-c37a-bbb404869b41"
      },
      "execution_count": 12,
      "outputs": [
        {
          "output_type": "execute_result",
          "data": {
            "text/plain": [
              "array([[0.51639778]])"
            ]
          },
          "metadata": {},
          "execution_count": 12
        }
      ]
    },
    {
      "cell_type": "code",
      "source": [
        "cosine_similarity(sent1.reshape(1,-1),sent3.reshape(1,-1))"
      ],
      "metadata": {
        "colab": {
          "base_uri": "https://localhost:8080/"
        },
        "id": "3zMYWGgIUzOW",
        "outputId": "3048d15d-583e-4da3-ecc4-333f88a475b3"
      },
      "execution_count": 14,
      "outputs": [
        {
          "output_type": "execute_result",
          "data": {
            "text/plain": [
              "array([[0.8]])"
            ]
          },
          "metadata": {},
          "execution_count": 14
        }
      ]
    },
    {
      "cell_type": "code",
      "source": [
        "def cosine_similarity_1(x,y): #1차원 배열을 넣을꺼다\n",
        "  return np.dot(x,y) / (np.linalg.norm(x) * np.linalg.norm(y))   # cosin_similarity가 내부적으로 생성하는 방법, 내적하는 함수 이용한거임"
      ],
      "metadata": {
        "id": "AVahrJ6eWN0Z"
      },
      "execution_count": 16,
      "outputs": []
    },
    {
      "cell_type": "code",
      "source": [
        "cosine_similarity_1(sent1,sent2)"
      ],
      "metadata": {
        "colab": {
          "base_uri": "https://localhost:8080/"
        },
        "id": "V35s553uW1Bs",
        "outputId": "fcf7b495-01d5-4b60-b692-8ac2e5b96ec3"
      },
      "execution_count": 17,
      "outputs": [
        {
          "output_type": "execute_result",
          "data": {
            "text/plain": [
              "0.5163977794943222"
            ]
          },
          "metadata": {},
          "execution_count": 17
        }
      ]
    },
    {
      "cell_type": "code",
      "source": [
        "cosine_similarity_1(sent1,sent3)"
      ],
      "metadata": {
        "colab": {
          "base_uri": "https://localhost:8080/"
        },
        "id": "ScRti05pW_Dq",
        "outputId": "e80d015e-8499-4ee8-c373-7e89f8e80f3d"
      },
      "execution_count": 18,
      "outputs": [
        {
          "output_type": "execute_result",
          "data": {
            "text/plain": [
              "0.7999999999999998"
            ]
          },
          "metadata": {},
          "execution_count": 18
        }
      ]
    },
    {
      "cell_type": "markdown",
      "source": [
        "#단어 빈도 분석과 데이터 소개\n",
        "빈도 분석: 특정 말뭉치에서 등장한 단어의 빈도를 계산->관심이 많은 키워드를 추출\n",
        "\n",
        "워드클라우드:빈도의 크기에 비례해서 단어의 크기가 커지도록 시각화\n"
      ],
      "metadata": {
        "id": "WxBRzUXqXrvn"
      }
    },
    {
      "cell_type": "markdown",
      "source": [
        "#한글 형태소 분석\n",
        "KoNLpy 라이브러리에서 Mecab,okt의 성능이 우수함\n",
        "\n",
        "토큰이 의도하지 않은 대로 구분되기도 한다. - 그런 부분은 사용자가 설정해줘야함\n",
        "\n",
        "#불용어처리\n",
        "1.분석에 도움이 되지 않는 형태소는 제거\n",
        "\n",
        "2.분석 목적에 따라 의미 없는 단얻르을 불영어로 처리할 수 있음\n"
      ],
      "metadata": {
        "id": "FMRmfJK2YICn"
      }
    },
    {
      "cell_type": "markdown",
      "source": [
        "#빈도분석_워드클라우드 실습 전처리"
      ],
      "metadata": {
        "id": "twelDce8aGd7"
      }
    }
  ]
}